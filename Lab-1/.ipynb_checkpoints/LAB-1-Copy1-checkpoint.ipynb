{
 "cells": [
  {
   "attachments": {},
   "cell_type": "markdown",
   "id": "13ff04ff-2f03-4c1b-8f94-5c0fff5bbd24",
   "metadata": {},
   "source": [
    "# Question-1\n",
    "Write a Python code to build a deep neural network using Keras and compute a number of parameters, memory and FLOPs for the following model. Use relu activations functions in the hidden layers and sigmoid activations function in the output layers.\n",
    "\n",
    "\n",
    "CPU that performs 1 GFLOPS (1,000,000,000) per seconds and computes the inference time of the Deep neural network model.\n",
    "\n",
    "\n",
    "\n",
    "<img src=\"2.png\" width=\"700\" height=\"500\">\n"
   ]
  },
  {
   "attachments": {},
   "cell_type": "markdown",
   "id": "a3bbfd46-dc1d-403b-bde7-5daab5627172",
   "metadata": {},
   "source": [
    "##  Parameters calculation in Deep neural network \n",
    "\n",
    "The number of internal parameters in a neural network is the total number of weights + the total number of biases. The total number of weights equals the sum of the products of each pair of adjacent layers. The total number of biases equals the number of hidden neurons + the number of output neurons.\n",
    "\n",
    "## Model Size calculations\n",
    "\n",
    "\n",
    "Model Size (in bytes)=Number of Parameters×Bytes Per Parameter\n",
    "Model Size (in KB)=Model Size (in bytes)/1024 \n",
    "\n",
    "##  FLOPs calculation in Deep neural network \n",
    "FLOPs of  FC=2*(input size x output size )+(output size x activation)\n",
    "\n",
    "## Infrences time calculations \n",
    "\n",
    "The inference time = FLOPs/FLOPS.\n",
    "\n",
    "FLOPs-> measures computational complexity of the model.\n",
    "\n",
    "FLOPS-> measures the hardware’s processing capability\n",
    "\n"
   ]
  },
  {
   "cell_type": "code",
   "execution_count": 11,
   "id": "50bc661c-0608-479a-a379-ce4f7a7a1712",
   "metadata": {},
   "outputs": [],
   "source": [
    "### Write  your code here \n",
    "\n"
   ]
  },
  {
   "attachments": {},
   "cell_type": "markdown",
   "id": "dcca70a6-efbd-4ec7-a94c-2fc83072a07b",
   "metadata": {},
   "source": [
    "# Question-2\n",
    "Write a Python code to build a deep neural network using Keras and compute a number of parameters, memory and FLOPs for the following model. Use relu activations functions in the hidden layers and softmax activations function in the output layers. Write a Python code plot  the bar graph of the question 1 and question 2 output and compare.\n",
    "\n",
    "\n",
    "\n",
    "<img src=\"1.png\" width=\"700\" height=\"500\">"
   ]
  },
  {
   "cell_type": "code",
   "execution_count": 12,
   "id": "1a795d48-531a-4917-b708-dd9af3f2f2cd",
   "metadata": {},
   "outputs": [],
   "source": [
    "### Write  your code here "
   ]
  },
  {
   "attachments": {},
   "cell_type": "markdown",
   "id": "96f4995f-d746-4d7d-98eb-5cf732c02fac",
   "metadata": {},
   "source": [
    "## Output Dimensions Formula for 2D Convolution \n",
    "<img src=\"10.png\" width=\"600\" height=\"400\">\n",
    "\n",
    "## Parameter calculation of 2DCNN\n",
    "\n",
    "\n",
    "<img src=\"4.png\" width=\"400\" height=\"200\">\n",
    "\n",
    "## FLOPs calculation of 2DCNN\n",
    "<img src=\"6.png\" width=\"600\" height=\"400\">\n",
    "\n",
    "\n",
    "\n",
    "## FLOPs calculation for Pooling Layers\n",
    "<img src=\"12.png\" width=\"600\" height=\"400\">\n"
   ]
  },
  {
   "cell_type": "markdown",
   "id": "bec5bed0-e48b-472c-82d8-c84fcb7bb443",
   "metadata": {},
   "source": [
    "# Question-3\n",
    "\n",
    "Write a Python code build 2DCNN model for the following specifications using Keras and compute the number of parameters ,model size and FLOPs\n",
    "\n",
    "The model architecture consists of several layers designed for image classification tasks, such as recognizing digits from the MNIST dataset. The architecture begins with a 2D convolutional layer (Conv2D), which applies 32 filters of size 3x3 to the input image (28x28x1), followed by the ReLU activation function to introduce non-linearity. This is followed by a max-pooling layer (MaxPooling2D) with a pool size of 2x2, reducing the spatial dimensions of the feature maps while retaining important information. A second convolutional layer with 64 filters of size 3x3 is then applied, again using ReLU activation. Another max-pooling layer  (2x2 ) follows to further downsample the feature maps. The output of the convolutional layers is then flattened into a one-dimensional vector using the Flatten layer, which is fed into the fully connected dense layers. The first dense layer has 64 neurons with ReLU activation, allowing the model to learn complex representations, while the final dense layer has 10 neurons with a softmax activation function, providing probabilities for each of the 10 possible digit classes.\n"
   ]
  },
  {
   "cell_type": "code",
   "execution_count": 13,
   "id": "0140dc76-f695-41d3-bd81-b0627fd9950e",
   "metadata": {},
   "outputs": [],
   "source": [
    "### Write  your code here "
   ]
  },
  {
   "attachments": {},
   "cell_type": "markdown",
   "id": "07efdcc1-e0dc-493a-9a6a-e76c2e6b4920",
   "metadata": {},
   "source": [
    "# Question-4\n",
    "Write a Python code to build CNN using Keras and compute a  number of parameters,memory and FLOPs for the following model.\n",
    "\n",
    "\n",
    "\n",
    "\n",
    "\n",
    "<img src=\"3.jpg\" width=\"900\" height=\"700\">"
   ]
  },
  {
   "cell_type": "code",
   "execution_count": 14,
   "id": "297ed5e3-c963-43c6-a6ea-063fffe67231",
   "metadata": {},
   "outputs": [],
   "source": [
    "### Write  your code here "
   ]
  },
  {
   "cell_type": "markdown",
   "id": "81bd615b-8d3f-40a3-b174-e2879460c4c3",
   "metadata": {},
   "source": [
    "## Output Shape of 3DCNN\n",
    "\n",
    "<img src=\"13.png\" width=\"400\" height=\"300\">\n",
    "<img src=\"14.png\" width=\"400\" height=\"300\">\n",
    "\n",
    "\n",
    "\n",
    "\n",
    "\n",
    "\n",
    "### 3DCNN parameters calculations\n",
    "<img src=\"7.png\" width=\"900\" height=\"700\">\n"
   ]
  },
  {
   "attachments": {},
   "cell_type": "markdown",
   "id": "c329993c-6a36-493f-9e05-b4ee86005753",
   "metadata": {},
   "source": [
    "### 3DCNN FLOPs calculations\n",
    "\n",
    "<img src=\"8.png\" width=\"900\" height=\"700\">\n",
    "\n",
    "\n",
    "\n",
    "### 3DCNN FLOPs calculation for Pooling Layers \n",
    "<img src=\"15.png\" width=\"900\" height=\"700\">\n"
   ]
  },
  {
   "attachments": {},
   "cell_type": "markdown",
   "id": "57e700ae-b194-434f-826c-1e8183acc37e",
   "metadata": {},
   "source": [
    "# Question-5\n",
    "\n",
    "You are tasked with designing a 3D Convolutional Neural Network (3D CNN) to classify video clips into one of five categories, such as walking, running, jumping, swimming, and cycling. Each video clip consists of 16 frames of size 64x64, and the data has a single channel (grayscale). The model should include two 3D convolutional layers followed by max-pooling layers, a flattening layer, and fully connected dense layers. Specifically, the architecture should satisfy the following requirements:\n",
    "\n",
    "The input layer should accept a shape of (16, 64, 64, 1) corresponding to the temporal, height, width, and channel dimensions.\n",
    "The first 3D convolutional layer should have 32 filters of size (3, 3, 3) and use ReLU activation.\n",
    "The first max-pooling layer should have a pool size of (2, 2, 2) to downsample the feature maps.\n",
    "The second 3D convolutional layer should have 64 filters of size (3, 3, 3) and use ReLU activation.\n",
    "The second max-pooling layer should again have a pool size of (2, 2, 2).\n",
    "The flattened layer should connect to a dense layer with 128 neurons using ReLU activation, followed by the output layer with 5 neurons and a softmax activation.\n",
    "Design and implement this 3D CNN architecture, compute the number of parameters for each layer, compute the model size and compute the FLOPs.\n",
    "\n",
    "\n",
    "\n",
    "\n",
    "\n"
   ]
  },
  {
   "cell_type": "code",
   "execution_count": null,
   "id": "6dee948f-5288-4fbc-b995-443a3d975263",
   "metadata": {},
   "outputs": [],
   "source": [
    "### Write  your code here "
   ]
  },
  {
   "attachments": {},
   "cell_type": "markdown",
   "id": "d0457d1f-bca5-405f-8dd3-2fbc26dd7038",
   "metadata": {},
   "source": [
    "# Question-6\n",
    "\n",
    "A company is building a system to predict customer sentiment (positive or negative) based on a sequence of customer reviews. \n",
    "Each review is represented as a feature vector of size 4, where each feature corresponds to a specific aspect of the review, such as tone, length, and keyword presence. To process this sequential data, the team decides to use a Recurrent Neural Network (RNN).\n",
    "\n",
    "The input size n<sub>x</sub> is 4, meaning each input vector x<sup>t</sup> has 4 features.  \n",
    "The hidden layer has 3 hidden units n<sub>a</sub>=3.  \n",
    "The output size n<sub>y</sub> is 2, corresponding to the two possible sentiment classes (positive or negative).  \n",
    "The sequence length T<sub>x</sub> is 5, meaning the RNN will process a sequence of 5 reviews at a time.\n",
    "use sigmoid activation functions in the output layers and compute the number of parameters and memory in the RNN model.\n",
    "\n",
    "\n",
    "\n",
    "\n",
    "<img src=\"9.png\" width=\"300\" height=\"100\">\n",
    "\n",
    "\n",
    "Number of parameter of RNN = g × [a(a+i) + a]\n",
    "\n",
    "a --> hidden unit\n",
    "\n",
    "i ---> input unit\n",
    "\n"
   ]
  },
  {
   "cell_type": "code",
   "execution_count": null,
   "id": "e77c1ac0-6a30-46c5-93d8-e78f34284ae6",
   "metadata": {},
   "outputs": [],
   "source": [
    "### Write  your code here "
   ]
  },
  {
   "cell_type": "markdown",
   "id": "1933955e-5b05-4e2e-9b36-27b5190fea54",
   "metadata": {},
   "source": [
    "# Question 7\n",
    "\n",
    "Write a Python code to implement a single LSTM unit for the follwoing and compute the parameter of the follwoing model using Keras.\n",
    "    \n",
    "<img src=\"https://github.com/kmkarakaya/ML_tutorials/blob/master/images/LSTM_internal2.png?raw=true\" width=\"500\">\n",
    "\n",
    "\n",
    " Notice that we can guess the size (shape) of W,U and b given:\n",
    " * Input size ($h_{t-1}$ and $x_{t}$ )\n",
    " * Output size ($h_{t-1}$)\n",
    "\n",
    " Since output must equal to Hidden State (hx1) size:\n",
    "\n",
    "  * for W param =  ($h$ × $x$)\n",
    "  * for U param =  ($h$ × $h$)\n",
    "  * for Biases  param =   $h$\n",
    "\n",
    " * total params = W param + U param + Biases param\n",
    "  \n",
    "    =  ($h$ × $x$) +  ($h$ × $h$) +  $h$\n",
    "\n",
    "    =  ( ($h$ × $x$) +  ($h$ × $h$) +   $h$ )\n",
    "\n",
    "    =  ( ($x$ + $h$) ×  $h$  +   $h$ )\n",
    "\n",
    "* there are 4 functions which are exactly defined in the same way, in the LSTM layer, there will be\n",
    "\n",
    " ##   **LSTM parameter number = 4 × (($x$ + $h$) × $h$ +$h$)**\n",
    "\n"
   ]
  },
  {
   "cell_type": "code",
   "execution_count": null,
   "id": "32110225-3e3a-482c-a850-835920d0fda8",
   "metadata": {},
   "outputs": [],
   "source": [
    "### Write  your code here "
   ]
  }
 ],
 "metadata": {
  "kernelspec": {
   "display_name": "Python 3 (ipykernel)",
   "language": "python",
   "name": "python3"
  },
  "language_info": {
   "codemirror_mode": {
    "name": "ipython",
    "version": 3
   },
   "file_extension": ".py",
   "mimetype": "text/x-python",
   "name": "python",
   "nbconvert_exporter": "python",
   "pygments_lexer": "ipython3",
   "version": "3.8.20"
  }
 },
 "nbformat": 4,
 "nbformat_minor": 5
}
